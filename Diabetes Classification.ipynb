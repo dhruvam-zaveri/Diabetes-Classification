{
 "cells": [
  {
   "cell_type": "code",
   "execution_count": 1,
   "metadata": {},
   "outputs": [],
   "source": [
    "import numpy as np\n",
    "import pandas as pd\n",
    "import matplotlib.pyplot as plt"
   ]
  },
  {
   "cell_type": "code",
   "execution_count": 2,
   "metadata": {},
   "outputs": [],
   "source": [
    "def readFile(filename):\n",
    "    df = pd.read_csv(filename)\n",
    "    return df.values"
   ]
  },
  {
   "cell_type": "code",
   "execution_count": 3,
   "metadata": {},
   "outputs": [],
   "source": [
    "def distance(x1,x2):\n",
    "    return np.sqrt(sum((x2-x1)**2))"
   ]
  },
  {
   "cell_type": "code",
   "execution_count": 46,
   "metadata": {},
   "outputs": [],
   "source": [
    "def knn(x,y,query,k):\n",
    "    \n",
    "    vals = []\n",
    "    m = x.shape[0]\n",
    "    for i in  range(m):\n",
    "        d = distance(query,x[i])\n",
    "        vals.append((d,y[i]))\n",
    "            \n",
    "    vals.sort()\n",
    "    vals = vals[:k]\n",
    "    vals = np.array(vals)\n",
    "    new_vals = np.unique(vals[:,1], return_counts = True )   \n",
    "    index = new_vals[1].argmax()\n",
    "    pred = new_vals[0][index]\n",
    "    \n",
    "    return pred"
   ]
  },
  {
   "cell_type": "code",
   "execution_count": 48,
   "metadata": {},
   "outputs": [
    {
     "name": "stdout",
     "output_type": "stream",
     "text": [
      "[0 0 0 0 0 1 1 0 0 0 1 0 1 0 0 0 0 1 1 1 1 0 0 0 0 0 0 0 0 0 0 0 0 0 0 0 0\n",
      " 1 1 0 1 0 0 0 1 0 0 1 0 1 0 1 0 0 1 0 1 0 0 1 0 0 0 0 1 0 0 0 0 0 0 0 0 0\n",
      " 0 0 0 0 0 0 0 0 0 0 0 0 1 0 0 0 1 1 1 0 1 0 0 0 0 0 1 1 0 0 0 1 1 1 0 0 1\n",
      " 1 1 0 0 1 0 1 0 0 0 0 0 0 1 1 1 0 1 0 1 1 0 0 0 0 1 1 1 0 0 1 1 1 1 0 0 1\n",
      " 1 1 0 0 1 0 0 1 1 1 0 1 1 0 0 0 0 0 0 0 0 0 0 0 0 1 0 0 0 0 1 1 0 0 1 0 1\n",
      " 0 0 0 0 1 0 0]\n"
     ]
    }
   ],
   "source": [
    "x_train = readFile('./Training Data/Diabetes_XTrain.csv')\n",
    "y_train = readFile('./Training Data/Diabetes_YTrain.csv').reshape(-1,)\n",
    "x_test = readFile('./Testing Data/Diabetes_XTest.csv')\n",
    "\n",
    "m = x_test.shape[0]\n",
    "pred = []\n",
    "\n",
    "for i in range(m):\n",
    "    knn_ = knn(x_train,y_train,x_test[i],int(np.sqrt(x_test.shape[0])))\n",
    "    pred.append(knn_)\n",
    "    \n",
    "pred = np.array(pred,dtype = int)\n",
    "print(pred)"
   ]
  },
  {
   "cell_type": "code",
   "execution_count": 76,
   "metadata": {},
   "outputs": [
    {
     "name": "stdout",
     "output_type": "stream",
     "text": [
      "predicted classes : [0 1]\n",
      "Size of each predicted class is : [130  62]\n",
      "\n"
     ]
    },
    {
     "data": {
      "text/plain": [
       "Text(0.5, 1.0, 'Diabetes Classification')"
      ]
     },
     "execution_count": 76,
     "metadata": {},
     "output_type": "execute_result"
    },
    {
     "data": {
      "image/png": "[encoded data removed]",
      "text/plain": [
       "<Figure size 432x288 with 1 Axes>"
      ]
     },
     "metadata": {
      "needs_background": "light"
     },
     "output_type": "display_data"
    }
   ],
   "source": [
    "class_,size_class = np.unique(pred,return_counts = True)\n",
    "\n",
    "print(\"predicted classes : \" + str(class_)) \n",
    "print(\"Size of each predicted class is : \" + str(size_class))\n",
    "print()\n",
    "\n",
    "plt.bar(class_, size_class, width = 1/25)\n",
    "plt.ylabel(\"No. of patients\")\n",
    "plt.xlabel(\"Classes\")\n",
    "plt.title(\"Diabetes Classification\")"
   ]
  },
  {
   "cell_type": "code",
   "execution_count": null,
   "metadata": {},
   "outputs": [],
   "source": []
  }
 ],
 "metadata": {
  "kernelspec": {
   "display_name": "Python 3",
   "language": "python",
   "name": "python3"
  },
  "language_info": {
   "codemirror_mode": {
    "name": "ipython",
    "version": 3
   },
   "file_extension": ".py",
   "mimetype": "text/x-python",
   "name": "python",
   "nbconvert_exporter": "python",
   "pygments_lexer": "ipython3",
   "version": "3.7.3"
  }
 },
 "nbformat": 4,
 "nbformat_minor": 2
}
